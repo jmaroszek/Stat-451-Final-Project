{
 "cells": [
  {
   "cell_type": "markdown",
   "id": "865109d0-9484-4244-9d87-0dcd6ebfa9c0",
   "metadata": {},
   "source": [
    "Cleaning Data for Analysis "
   ]
  },
  {
   "cell_type": "code",
   "execution_count": 1,
   "id": "05cf245f-705d-44bc-9155-21e6dbb623fe",
   "metadata": {},
   "outputs": [],
   "source": [
    "import pandas\n",
    "pandas.read_csv("
   ]
  },
  {
   "cell_type": "code",
   "execution_count": null,
   "id": "977eeffd-83d2-43ee-aed3-80cef511909d",
   "metadata": {},
   "outputs": [],
   "source": []
  }
 ],
 "metadata": {
  "kernelspec": {
   "display_name": "Python 3 (ipykernel)",
   "language": "python",
   "name": "python3"
  },
  "language_info": {
   "codemirror_mode": {
    "name": "ipython",
    "version": 3
   },
   "file_extension": ".py",
   "mimetype": "text/x-python",
   "name": "python",
   "nbconvert_exporter": "python",
   "pygments_lexer": "ipython3",
   "version": "3.8.12"
  }
 },
 "nbformat": 4,
 "nbformat_minor": 5
}
