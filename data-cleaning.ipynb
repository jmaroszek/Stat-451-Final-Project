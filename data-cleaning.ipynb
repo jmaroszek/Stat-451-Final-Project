{
 "cells": [
  {
   "cell_type": "markdown",
   "id": "865109d0-9484-4244-9d87-0dcd6ebfa9c0",
   "metadata": {},
   "source": [
    "Cleaning Data for Analysis "
   ]
  },
  {
   "cell_type": "code",
   "execution_count": 18,
   "id": "05cf245f-705d-44bc-9155-21e6dbb623fe",
   "metadata": {},
   "outputs": [],
   "source": [
    "#import statements\n",
    "import numpy as np\n",
    "import pandas as pd\n",
    "from matplotlib.pyplot import subplots\n",
    "from sklearn.model_selection import train_test_split\n",
    "from sklearn.ensemble import RandomForestRegressor\n",
    "from sklearn.tree import DecisionTreeRegressor\n",
    "from sklearn.ensemble import GradientBoostingRegressor\n"
   ]
  },
  {
   "cell_type": "markdown",
   "id": "3c430428-4efc-4c0d-a2da-720b65d1f2d7",
   "metadata": {},
   "source": [
    "Because not all new construction homes were sold, and among those that were sold, not all reported the sale price. Those cases simply list sale price (SLPR) as 0. Because for our analysis these examples are not of interest to us they will be removed. Additionally there are two variables that indicate the sale price of the home: SLPR and FSLPR. FSLPR (Final Sale Price) is only filled in if the SLPR was changed before the final closing date. Because we would like the most accurate information FSLPR and SLPR will be combined into FSLPR filling in the missing information of FSLPR with SLPR."
   ]
  },
  {
   "cell_type": "code",
   "execution_count": 3,
   "id": "d84535a4-3641-4468-8daf-21fc62fe9e6b",
   "metadata": {},
   "outputs": [],
   "source": [
    "## Reading and cleaning data\n",
    "raw_data = pd.read_csv('soc19.csv')\n",
    "\n",
    "## Remove rows where sale price was not reported or house was not sold \n",
    "raw_data = raw_data[(raw_data['SLPR'] != 0) | (raw_data['FSLPR'] != 0)]\n",
    "\n",
    "## If FSLPR is zero, replace this value with SLPR\n",
    "raw_data.FSLPR[raw_data.FSLPR == 0] = raw_data.SLPR\n",
    " \n",
    "## clean data export\n",
    "cleaned_data = raw_data \n",
    "cleaned_data.to_csv('cleaned_data.csv', index=False)\n",
    "\n",
    "#create train and test set\n",
    "x = cleaned_data.loc[:, cleaned_data.columns != 'FSLPR']\n",
    "y = cleaned_data.loc[:, cleaned_data.columns == 'FSLPR']\n",
    "xTrain, xTest, yTrain, yTest = train_test_split(x, y, test_size = 0.2, random_state = 1)"
   ]
  },
  {
   "cell_type": "markdown",
   "id": "1f842be2",
   "metadata": {},
   "source": [
    "Model Implementation"
   ]
  },
  {
   "cell_type": "code",
   "execution_count": 4,
   "id": "fcbeb095",
   "metadata": {},
   "outputs": [
    {
     "data": {
      "text/plain": [
       "RandomForestRegressor()"
      ]
     },
     "execution_count": 4,
     "metadata": {},
     "output_type": "execute_result"
    }
   ],
   "source": [
    "#train random forest model\n",
    "rForest = RandomForestRegressor()\n",
    "rForest.fit(xTrain, yTrain.values.ravel())"
   ]
  },
  {
   "cell_type": "code",
   "execution_count": 5,
   "id": "fb6c41c7",
   "metadata": {},
   "outputs": [
    {
     "name": "stdout",
     "output_type": "stream",
     "text": [
      "Coefficient of determination on test set: 1.0\n"
     ]
    }
   ],
   "source": [
    "#evaluate model in another cell so don't need to refit model every time\n",
    "yhat = rForest.predict(xTest)\n",
    "score = rForest.score(xTest, yhat)\n",
    "print('Coefficient of determination on test set:', score) "
   ]
  },
  {
   "cell_type": "code",
   "execution_count": 6,
   "id": "e3f0014f",
   "metadata": {},
   "outputs": [
    {
     "data": {
      "text/plain": [
       "DecisionTreeRegressor()"
      ]
     },
     "execution_count": 6,
     "metadata": {},
     "output_type": "execute_result"
    }
   ],
   "source": [
    "#train decision tree\n",
    "tree = DecisionTreeRegressor()\n",
    "tree.fit(xTrain, yTrain)"
   ]
  },
  {
   "cell_type": "code",
   "execution_count": 7,
   "id": "d5c24d9e",
   "metadata": {},
   "outputs": [
    {
     "name": "stdout",
     "output_type": "stream",
     "text": [
      "coefficient of determination on test set: 0.98\n"
     ]
    }
   ],
   "source": [
    "#assess tree\n",
    "yhat = tree.predict(xTest)\n",
    "score = tree.score(xTest, yTest)\n",
    "print('coefficient of determination on test set:', np.round(score,2))"
   ]
  },
  {
   "cell_type": "markdown",
   "id": "f8a95ecf-a85f-43a5-8cb2-c3d4d816045e",
   "metadata": {},
   "source": [
    "Gradient Boosting Model"
   ]
  },
  {
   "cell_type": "code",
   "execution_count": 21,
   "id": "1356e4a6-5208-40c0-bf6c-6cf0d49cd8a7",
   "metadata": {},
   "outputs": [
    {
     "data": {
      "text/plain": [
       "GradientBoostingRegressor()"
      ]
     },
     "execution_count": 21,
     "metadata": {},
     "output_type": "execute_result"
    }
   ],
   "source": [
    "#train gradiant boosting model\n",
    "GBR = GradientBoostingRegressor()\n",
    "GBR.fit(xTrain, yTrain.values.ravel())\n"
   ]
  },
  {
   "cell_type": "code",
   "execution_count": 22,
   "id": "496815ab-16cc-47c3-94ea-a651b9ccb6f6",
   "metadata": {},
   "outputs": [
    {
     "name": "stdout",
     "output_type": "stream",
     "text": [
      "coefficient of determination on test set: 0.99\n"
     ]
    }
   ],
   "source": [
    "#assess gradient boosting model\n",
    "yhat = GBR.predict(xTest)\n",
    "score = GBR.score(xTest, yTest)\n",
    "print('coefficient of determination on test set:', np.round(score,2))"
   ]
  },
  {
   "cell_type": "code",
   "execution_count": null,
   "id": "2801c879-4b7e-4966-b2fd-460a545ff665",
   "metadata": {},
   "outputs": [],
   "source": []
  }
 ],
 "metadata": {
  "interpreter": {
   "hash": "1a7d1808110443b3cdaed7c6de853f824ed46249aa2d1a3ebcec599b392942a3"
  },
  "kernelspec": {
   "display_name": "Python 3 (ipykernel)",
   "language": "python",
   "name": "python3"
  },
  "language_info": {
   "codemirror_mode": {
    "name": "ipython",
    "version": 3
   },
   "file_extension": ".py",
   "mimetype": "text/x-python",
   "name": "python",
   "nbconvert_exporter": "python",
   "pygments_lexer": "ipython3",
   "version": "3.8.12"
  }
 },
 "nbformat": 4,
 "nbformat_minor": 5
}
