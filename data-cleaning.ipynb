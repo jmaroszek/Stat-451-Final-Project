{
 "cells": [
  {
   "cell_type": "markdown",
   "id": "865109d0-9484-4244-9d87-0dcd6ebfa9c0",
   "metadata": {},
   "source": [
    "Cleaning Data for Analysis "
   ]
  },
  {
   "cell_type": "code",
   "execution_count": 14,
   "id": "05cf245f-705d-44bc-9155-21e6dbb623fe",
   "metadata": {},
   "outputs": [],
   "source": [
    "#import statements\n",
    "import numpy as np\n",
    "import pandas as pd\n",
    "from matplotlib.pyplot import subplots\n",
    "import matplotlib.pyplot as plt\n",
    "from sklearn.model_selection import train_test_split\n",
    "from sklearn.model_selection import GridSearchCV\n",
    "from sklearn.ensemble import RandomForestRegressor\n",
    "from sklearn.tree import DecisionTreeRegressor\n",
    "from sklearn.ensemble import GradientBoostingRegressor\n"
   ]
  },
  {
   "cell_type": "code",
   "execution_count": 2,
   "id": "21930e3c",
   "metadata": {},
   "outputs": [],
   "source": [
    "#function definitions\n",
    "def PlotScatter(yhat):\n",
    "    fig, ax = plt.subplots()\n",
    "    ax.scatter(yhat, yTest)\n",
    "    ax.set_xlabel('Predicted Sale Price (in Millions)')\n",
    "    ax.set_ylabel('Actual Sale Price (in Millions)')\n",
    "    return ax"
   ]
  },
  {
   "cell_type": "markdown",
   "id": "3c430428-4efc-4c0d-a2da-720b65d1f2d7",
   "metadata": {},
   "source": [
    "Because not all new construction homes were sold, and among those that were sold, not all reported the sale price. Those cases simply list sale price (SLPR) as 0. Because for our analysis these examples are not of interest to us they will be removed. Additionally there are two variables that indicate the sale price of the home: SLPR and FSLPR. FSLPR (Final Sale Price) is only filled in if the SLPR was changed before the final closing date. Because we would like the most accurate information FSLPR and SLPR will be combined into FSLPR filling in the missing information of FSLPR with SLPR."
   ]
  },
  {
   "cell_type": "code",
   "execution_count": 3,
   "id": "d84535a4-3641-4468-8daf-21fc62fe9e6b",
   "metadata": {},
   "outputs": [],
   "source": [
    "## Reading and cleaning data\n",
    "raw_data = pd.read_csv('soc19.csv')\n",
    "\n",
    "## Remove rows where sale price was not reported or house was not sold \n",
    "raw_data = raw_data[(raw_data['SLPR'] != 0) | (raw_data['FSLPR'] != 0)]\n",
    "\n",
    "## If FSLPR is zero, replace this value with SLPR\n",
    "raw_data.FSLPR[raw_data.FSLPR == 0] = raw_data.SLPR\n",
    "\n",
    "## Features to remove \n",
    "remove_features = [\"SLPR\", \"FCONPR\", \"SALE\", \"COMP\", \"AUTH\", \"ID\", \"STRT\", \"PVALU\", \"FFNSQ_F\", \"CONPR\", \"FINC\",\n",
    "               \"SLPR_F\", \"FSLPR_F\", \"FCONPR_F\", \"LOTV_F\", \"SQFS_F\", \"FSQFS_F\", \"PVALU_F\"]\n",
    "\n",
    "## Removing Features \n",
    "raw_data = raw_data.drop(columns = remove_features)\n",
    " \n",
    "## clean data export\n",
    "cleaned_data = raw_data \n",
    "cleaned_data.to_csv('cleaned_data.csv', index=False)\n",
    "\n",
    "#create train and test set\n",
    "x = cleaned_data.loc[:, cleaned_data.columns != 'FSLPR']\n",
    "y = cleaned_data.loc[:, cleaned_data.columns == 'FSLPR']\n",
    "xTrain, xTest, yTrain, yTest = train_test_split(x, y, test_size = 0.2, random_state = 1)\n",
    "\n",
    "## Create 1d arrays of training and test sample weights \n",
    "training_weights = xTrain.loc[:, xTrain.columns == 'WEIGHT'].values.flatten()\n",
    "testing_weights = xTest.loc[:, xTest.columns == 'WEIGHT'].values.flatten()\n",
    "\n",
    "## Drop sample weights from training and testing data sets so not included in model\n",
    "xTrain = xTrain.drop(columns = 'WEIGHT')\n",
    "xTest = xTest.drop(columns = 'WEIGHT')"
   ]
  },
  {
   "cell_type": "markdown",
   "id": "923293ae",
   "metadata": {},
   "source": [
    "General Data Exploration: Stats stuff not necessarily related to machine learning"
   ]
  },
  {
   "cell_type": "code",
   "execution_count": 4,
   "id": "72dc8a00",
   "metadata": {},
   "outputs": [
    {
     "data": {
      "text/plain": [
       "count    1.325700e+04\n",
       "mean     4.061244e+05\n",
       "std      2.234747e+05\n",
       "min      1.100000e+05\n",
       "25%      2.610000e+05\n",
       "50%      3.500000e+05\n",
       "75%      4.850000e+05\n",
       "max      2.395000e+06\n",
       "Name: FSLPR, dtype: float64"
      ]
     },
     "execution_count": 4,
     "metadata": {},
     "output_type": "execute_result"
    }
   ],
   "source": [
    "#summary statistics\n",
    "cleaned_data['FSLPR'].describe()"
   ]
  },
  {
   "cell_type": "code",
   "execution_count": 5,
   "id": "be2e7495",
   "metadata": {},
   "outputs": [
    {
     "data": {
      "text/plain": [
       "Text(0.5, 1.0, 'Distribution of Final Sale Price')"
      ]
     },
     "execution_count": 5,
     "metadata": {},
     "output_type": "execute_result"
    },
    {
     "data": {
      "image/png": "[encoded data removed]",
      "text/plain": [
       "<Figure size 432x288 with 1 Axes>"
      ]
     },
     "metadata": {
      "needs_background": "light"
     },
     "output_type": "display_data"
    }
   ],
   "source": [
    "FSLPRdensity = cleaned_data['FSLPR'].plot(kind = 'density')\n",
    "FSLPRdensity.set_xlabel('Sale Price (in Millions)')\n",
    "FSLPRdensity.set_xlim(0)\n",
    "FSLPRdensity.set_title('Distribution of Final Sale Price')"
   ]
  },
  {
   "cell_type": "code",
   "execution_count": 6,
   "id": "b9353513",
   "metadata": {},
   "outputs": [
    {
     "data": {
      "image/png": "[encoded data removed]",
      "text/plain": [
       "<Figure size 432x288 with 1 Axes>"
      ]
     },
     "metadata": {
      "needs_background": "light"
     },
     "output_type": "display_data"
    }
   ],
   "source": [
    "FSLPRbox = cleaned_data['FSLPR'].plot(kind = 'box') #lot of high outliers\n",
    "FSLPRbox.set_ylabel('Sale Price (in Millions)')\n",
    "FSLPRbox.xaxis.set_visible(False)"
   ]
  },
  {
   "cell_type": "markdown",
   "id": "1f842be2",
   "metadata": {},
   "source": [
    "Model Implementation"
   ]
  },
  {
   "cell_type": "code",
   "execution_count": 36,
   "id": "fcbeb095",
   "metadata": {},
   "outputs": [
    {
     "data": {
      "text/plain": [
       "RandomForestRegressor(n_estimators=500)"
      ]
     },
     "execution_count": 36,
     "metadata": {},
     "output_type": "execute_result"
    }
   ],
   "source": [
    "#Random Forest\n",
    "rForest = RandomForestRegressor(n_estimators=500)\n",
    "\n",
    "# hyper-parameter optimization was run with the following grid search layout\n",
    "# I have commented it out and changed the main regressor to reflect the best parameters to save time\n",
    "\n",
    "# params = {\n",
    "#        'n_estimators': [100, 250, 500, 1000],\n",
    "# }\n",
    "\n",
    "# gridForest = GridSearchCV(estimator = rForest, param_grid = params, n_jobs = -1)\n",
    "# gridForest.fit(xTrain, yTrain.values.ravel(), sample_weight = training_weights)\n",
    "# print('best parameters:', gridForest.best_params_)\n",
    "\n",
    "rForest.fit(xTrain, yTrain.values.ravel(), sample_weight = training_weights)"
   ]
  },
  {
   "cell_type": "code",
   "execution_count": 38,
   "id": "fb6c41c7",
   "metadata": {},
   "outputs": [
    {
     "name": "stdout",
     "output_type": "stream",
     "text": [
      "Coefficient of determination on test set: 0.79\n"
     ]
    },
    {
     "data": {
      "text/plain": [
       "<AxesSubplot:xlabel='Predicted Sale Price (in Millions)', ylabel='Actual Sale Price (in Millions)'>"
      ]
     },
     "execution_count": 38,
     "metadata": {},
     "output_type": "execute_result"
    },
    {
     "data": {
      "image/png": "[encoded data removed]",
      "text/plain": [
       "<Figure size 432x288 with 1 Axes>"
      ]
     },
     "metadata": {
      "needs_background": "light"
     },
     "output_type": "display_data"
    }
   ],
   "source": [
    "#evaluate model in another cell so don't need to refit model every time\n",
    "yHatForest = rForest.predict(xTest)\n",
    "scoreForest = rForest.score(xTest, yTest, sample_weight = testing_weights)\n",
    "print('Coefficient of determination on test set:', np.round(scoreForest,2)) \n",
    "\n",
    "PlotScatter(yHatForest)"
   ]
  },
  {
   "cell_type": "code",
   "execution_count": 9,
   "id": "e3f0014f",
   "metadata": {},
   "outputs": [
    {
     "data": {
      "text/plain": [
       "DecisionTreeRegressor()"
      ]
     },
     "execution_count": 9,
     "metadata": {},
     "output_type": "execute_result"
    }
   ],
   "source": [
    "#train decision tree\n",
    "tree = DecisionTreeRegressor()\n",
    "tree.fit(xTrain, yTrain, sample_weight = training_weights)"
   ]
  },
  {
   "cell_type": "code",
   "execution_count": 10,
   "id": "d5c24d9e",
   "metadata": {},
   "outputs": [
    {
     "name": "stdout",
     "output_type": "stream",
     "text": [
      "coefficient of determination on test set: 0.59\n"
     ]
    },
    {
     "data": {
      "text/plain": [
       "<AxesSubplot:xlabel='Predicted Sale Price (in Millions)', ylabel='Actual Sale Price (in Millions)'>"
      ]
     },
     "execution_count": 10,
     "metadata": {},
     "output_type": "execute_result"
    },
    {
     "data": {
      "image/png": "[encoded data removed]",
      "text/plain": [
       "<Figure size 432x288 with 1 Axes>"
      ]
     },
     "metadata": {
      "needs_background": "light"
     },
     "output_type": "display_data"
    }
   ],
   "source": [
    "#assess tree\n",
    "yHatTree = tree.predict(xTest)\n",
    "scoreTree = tree.score(xTest, yTest, sample_weight = testing_weights)\n",
    "print('coefficient of determination on test set:', np.round(scoreTree,2))\n",
    "PlotScatter(yHatTree)"
   ]
  },
  {
   "cell_type": "markdown",
   "id": "f8a95ecf-a85f-43a5-8cb2-c3d4d816045e",
   "metadata": {},
   "source": [
    "Gradient Boosting Model"
   ]
  },
  {
   "cell_type": "code",
   "execution_count": 32,
   "id": "1356e4a6-5208-40c0-bf6c-6cf0d49cd8a7",
   "metadata": {},
   "outputs": [
    {
     "data": {
      "text/plain": [
       "GradientBoostingRegressor(max_depth=5, n_estimators=1000)"
      ]
     },
     "execution_count": 32,
     "metadata": {},
     "output_type": "execute_result"
    }
   ],
   "source": [
    "#Gradient boosting \n",
    "GBR = GradientBoostingRegressor(n_estimators = 500, max_depth = 5)\n",
    "\n",
    "# hyper-parameter optimization was run with the following grid search layout\n",
    "# I have commented it out and changed the main regressor to reflect the best parameters to save time\n",
    "\n",
    "# params = {\n",
    "#        'learning_rate': [0.01, 0.05, 0.1, 0.2], \n",
    "#        'n_estimators': [100, 250, 500, 1000],\n",
    "#        'max_depth': [1, 2, 3, 4, 5, 10]     \n",
    "# }\n",
    "\n",
    "# gridGBR = GridSearchCV(estimator = GBR, param_grid = params, n_jobs = -1)\n",
    "# gridGBR.fit(xTrain, yTrain.values.ravel(), sample_weight = training_weights)\n",
    "# print('best parameters:', gridGBR.best_params_)\n",
    "\n",
    "GBR.fit(xTrain, yTrain.values.ravel(), sample_weight = training_weights)\n"
   ]
  },
  {
   "cell_type": "code",
   "execution_count": 33,
   "id": "496815ab-16cc-47c3-94ea-a651b9ccb6f6",
   "metadata": {},
   "outputs": [
    {
     "name": "stdout",
     "output_type": "stream",
     "text": [
      "coefficient of determination on test set: 0.78\n"
     ]
    },
    {
     "data": {
      "text/plain": [
       "<AxesSubplot:xlabel='Predicted Sale Price (in Millions)', ylabel='Actual Sale Price (in Millions)'>"
      ]
     },
     "execution_count": 33,
     "metadata": {},
     "output_type": "execute_result"
    },
    {
     "data": {
      "image/png": "[encoded data removed]",
      "text/plain": [
       "<Figure size 432x288 with 1 Axes>"
      ]
     },
     "metadata": {
      "needs_background": "light"
     },
     "output_type": "display_data"
    }
   ],
   "source": [
    "#assess gradient boosting model\n",
    "yHatGBR = GBR.predict(xTest)\n",
    "scoreGBR = GBR.score(xTest, yTest, sample_weight = testing_weights)\n",
    "print('coefficient of determination on test set:', np.round(scoreGBR, 2))\n",
    "PlotScatter(yHatGBR)"
   ]
  },
  {
   "cell_type": "code",
   "execution_count": null,
   "id": "2801c879-4b7e-4966-b2fd-460a545ff665",
   "metadata": {},
   "outputs": [],
   "source": []
  }
 ],
 "metadata": {
  "interpreter": {
   "hash": "1a7d1808110443b3cdaed7c6de853f824ed46249aa2d1a3ebcec599b392942a3"
  },
  "kernelspec": {
   "display_name": "Python 3 (ipykernel)",
   "language": "python",
   "name": "python3"
  },
  "language_info": {
   "codemirror_mode": {
    "name": "ipython",
    "version": 3
   },
   "file_extension": ".py",
   "mimetype": "text/x-python",
   "name": "python",
   "nbconvert_exporter": "python",
   "pygments_lexer": "ipython3",
   "version": "3.9.6"
  }
 },
 "nbformat": 4,
 "nbformat_minor": 5
}
